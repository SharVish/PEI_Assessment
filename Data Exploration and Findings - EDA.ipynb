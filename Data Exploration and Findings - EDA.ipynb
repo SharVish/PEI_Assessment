{
 "cells": [
  {
   "cell_type": "markdown",
   "id": "3a83abd0",
   "metadata": {},
   "source": [
    "## Data Analyst Task - Sales Data\n"
   ]
  },
  {
   "cell_type": "markdown",
   "id": "887fc127",
   "metadata": {},
   "source": [
    "### Introduction and Problem Statement\n",
    "\n",
    "There are *three data sources* given by the sales team:\n",
    "\n",
    "1. Customer data - xlsx format\n",
    "2. Order data - csv format\n",
    "3. Shipping data - json format\n",
    "\n",
    "**Reporting Requirements** (as given):\n",
    "\n",
    "1. the total amount spent per country & the pending delivery status for each country.\n",
    "2. the total number of transactions, total quantity sold, and total amount spent for each customer, along with the product details.\n",
    "3. the maximum product purchased for each country.\n",
    "4. the most purchased product based on the age category less than 30 and above 30.\n",
    "5. the country that had minimum transactions and sales amount."
   ]
  },
  {
   "cell_type": "markdown",
   "id": "10a53abd",
   "metadata": {},
   "source": [
    "### EDA of the data sources to verify the accuracy, completeness and reliability of the data sources"
   ]
  },
  {
   "cell_type": "code",
   "execution_count": 1,
   "id": "68ce6613",
   "metadata": {},
   "outputs": [],
   "source": [
    "# import the required libraries\n",
    "import pandas as pd\n",
    "import json"
   ]
  },
  {
   "cell_type": "code",
   "execution_count": 2,
   "id": "c269d5ad",
   "metadata": {},
   "outputs": [],
   "source": [
    "# load the customer excel file\n",
    "customer = pd.read_excel('/Users/sharathv/Learning/PEI Group Interview Prep/Customer.xls', sheet_name='atkoe-u250m')\n"
   ]
  },
  {
   "cell_type": "code",
   "execution_count": 3,
   "id": "53cc7aef",
   "metadata": {},
   "outputs": [],
   "source": [
    "# load the order csv file\n",
    "order = pd.read_csv('/Users/sharathv/Learning/PEI Group Interview Prep/Order.csv')\n"
   ]
  },
  {
   "cell_type": "code",
   "execution_count": 4,
   "id": "651c4c88",
   "metadata": {},
   "outputs": [],
   "source": [
    "# load the shippings json file\n",
    "with open('/Users/sharathv/Learning/PEI Group Interview Prep/Shipping.json', 'r') as f:\n",
    "    shipping = json.load(f)\n",
    "    \n",
    "\n",
    "# convert the json load to Pandas data frame    \n",
    "shipping = pd.DataFrame(shipping)    "
   ]
  },
  {
   "cell_type": "code",
   "execution_count": 5,
   "id": "6e32ec72",
   "metadata": {},
   "outputs": [
    {
     "data": {
      "text/html": [
       "<div>\n",
       "<style scoped>\n",
       "    .dataframe tbody tr th:only-of-type {\n",
       "        vertical-align: middle;\n",
       "    }\n",
       "\n",
       "    .dataframe tbody tr th {\n",
       "        vertical-align: top;\n",
       "    }\n",
       "\n",
       "    .dataframe thead th {\n",
       "        text-align: right;\n",
       "    }\n",
       "</style>\n",
       "<table border=\"1\" class=\"dataframe\">\n",
       "  <thead>\n",
       "    <tr style=\"text-align: right;\">\n",
       "      <th></th>\n",
       "      <th>Customer_ID</th>\n",
       "      <th>First</th>\n",
       "      <th>Last</th>\n",
       "      <th>Age</th>\n",
       "      <th>Country</th>\n",
       "    </tr>\n",
       "  </thead>\n",
       "  <tbody>\n",
       "    <tr>\n",
       "      <th>0</th>\n",
       "      <td>1</td>\n",
       "      <td>Joseph</td>\n",
       "      <td>Rice</td>\n",
       "      <td>43</td>\n",
       "      <td>USA</td>\n",
       "    </tr>\n",
       "    <tr>\n",
       "      <th>1</th>\n",
       "      <td>2</td>\n",
       "      <td>Gary</td>\n",
       "      <td>Moore</td>\n",
       "      <td>71</td>\n",
       "      <td>USA</td>\n",
       "    </tr>\n",
       "    <tr>\n",
       "      <th>2</th>\n",
       "      <td>3</td>\n",
       "      <td>John</td>\n",
       "      <td>Walker</td>\n",
       "      <td>44</td>\n",
       "      <td>UK</td>\n",
       "    </tr>\n",
       "    <tr>\n",
       "      <th>3</th>\n",
       "      <td>4</td>\n",
       "      <td>Eric</td>\n",
       "      <td>Carter</td>\n",
       "      <td>38</td>\n",
       "      <td>UK</td>\n",
       "    </tr>\n",
       "    <tr>\n",
       "      <th>4</th>\n",
       "      <td>5</td>\n",
       "      <td>William</td>\n",
       "      <td>Jackson</td>\n",
       "      <td>58</td>\n",
       "      <td>UAE</td>\n",
       "    </tr>\n",
       "  </tbody>\n",
       "</table>\n",
       "</div>"
      ],
      "text/plain": [
       "   Customer_ID    First     Last  Age Country\n",
       "0            1   Joseph     Rice   43     USA\n",
       "1            2     Gary    Moore   71     USA\n",
       "2            3     John   Walker   44      UK\n",
       "3            4     Eric   Carter   38      UK\n",
       "4            5  William  Jackson   58     UAE"
      ]
     },
     "execution_count": 5,
     "metadata": {},
     "output_type": "execute_result"
    }
   ],
   "source": [
    "# visual check of the top rows in the data frame\n",
    "customer.head()"
   ]
  },
  {
   "cell_type": "code",
   "execution_count": 6,
   "id": "9a263a7c",
   "metadata": {},
   "outputs": [
    {
     "name": "stdout",
     "output_type": "stream",
     "text": [
      "<class 'pandas.core.frame.DataFrame'>\n",
      "RangeIndex: 250 entries, 0 to 249\n",
      "Data columns (total 5 columns):\n",
      " #   Column       Non-Null Count  Dtype \n",
      "---  ------       --------------  ----- \n",
      " 0   Customer_ID  250 non-null    int64 \n",
      " 1   First        250 non-null    object\n",
      " 2   Last         250 non-null    object\n",
      " 3   Age          250 non-null    int64 \n",
      " 4   Country      250 non-null    object\n",
      "dtypes: int64(2), object(3)\n",
      "memory usage: 9.9+ KB\n"
     ]
    }
   ],
   "source": [
    "# customer data frame - info of number of rows, columns, data types and constraints, if any\n",
    "customer.info()"
   ]
  },
  {
   "cell_type": "code",
   "execution_count": 7,
   "id": "a04df7a9",
   "metadata": {},
   "outputs": [
    {
     "data": {
      "text/html": [
       "<div>\n",
       "<style scoped>\n",
       "    .dataframe tbody tr th:only-of-type {\n",
       "        vertical-align: middle;\n",
       "    }\n",
       "\n",
       "    .dataframe tbody tr th {\n",
       "        vertical-align: top;\n",
       "    }\n",
       "\n",
       "    .dataframe thead th {\n",
       "        text-align: right;\n",
       "    }\n",
       "</style>\n",
       "<table border=\"1\" class=\"dataframe\">\n",
       "  <thead>\n",
       "    <tr style=\"text-align: right;\">\n",
       "      <th></th>\n",
       "      <th>Customer_ID</th>\n",
       "      <th>Age</th>\n",
       "    </tr>\n",
       "  </thead>\n",
       "  <tbody>\n",
       "    <tr>\n",
       "      <th>count</th>\n",
       "      <td>250.000000</td>\n",
       "      <td>250.000000</td>\n",
       "    </tr>\n",
       "    <tr>\n",
       "      <th>mean</th>\n",
       "      <td>125.500000</td>\n",
       "      <td>47.576000</td>\n",
       "    </tr>\n",
       "    <tr>\n",
       "      <th>std</th>\n",
       "      <td>72.312977</td>\n",
       "      <td>18.978011</td>\n",
       "    </tr>\n",
       "    <tr>\n",
       "      <th>min</th>\n",
       "      <td>1.000000</td>\n",
       "      <td>18.000000</td>\n",
       "    </tr>\n",
       "    <tr>\n",
       "      <th>25%</th>\n",
       "      <td>63.250000</td>\n",
       "      <td>29.000000</td>\n",
       "    </tr>\n",
       "    <tr>\n",
       "      <th>50%</th>\n",
       "      <td>125.500000</td>\n",
       "      <td>47.000000</td>\n",
       "    </tr>\n",
       "    <tr>\n",
       "      <th>75%</th>\n",
       "      <td>187.750000</td>\n",
       "      <td>63.000000</td>\n",
       "    </tr>\n",
       "    <tr>\n",
       "      <th>max</th>\n",
       "      <td>250.000000</td>\n",
       "      <td>80.000000</td>\n",
       "    </tr>\n",
       "  </tbody>\n",
       "</table>\n",
       "</div>"
      ],
      "text/plain": [
       "       Customer_ID         Age\n",
       "count   250.000000  250.000000\n",
       "mean    125.500000   47.576000\n",
       "std      72.312977   18.978011\n",
       "min       1.000000   18.000000\n",
       "25%      63.250000   29.000000\n",
       "50%     125.500000   47.000000\n",
       "75%     187.750000   63.000000\n",
       "max     250.000000   80.000000"
      ]
     },
     "execution_count": 7,
     "metadata": {},
     "output_type": "execute_result"
    }
   ],
   "source": [
    "# check the basic summary statistics of the columns in customer data frame\n",
    "customer.describe()"
   ]
  },
  {
   "cell_type": "code",
   "execution_count": 8,
   "id": "8239024f",
   "metadata": {},
   "outputs": [
    {
     "data": {
      "text/plain": [
       "250"
      ]
     },
     "execution_count": 8,
     "metadata": {},
     "output_type": "execute_result"
    }
   ],
   "source": [
    "# check the no. of unique customers in \"customer\" data frame\n",
    "customer.Customer_ID.nunique()"
   ]
  },
  {
   "cell_type": "code",
   "execution_count": 9,
   "id": "b59ea557",
   "metadata": {},
   "outputs": [
    {
     "data": {
      "text/html": [
       "<div>\n",
       "<style scoped>\n",
       "    .dataframe tbody tr th:only-of-type {\n",
       "        vertical-align: middle;\n",
       "    }\n",
       "\n",
       "    .dataframe tbody tr th {\n",
       "        vertical-align: top;\n",
       "    }\n",
       "\n",
       "    .dataframe thead th {\n",
       "        text-align: right;\n",
       "    }\n",
       "</style>\n",
       "<table border=\"1\" class=\"dataframe\">\n",
       "  <thead>\n",
       "    <tr style=\"text-align: right;\">\n",
       "      <th></th>\n",
       "      <th>Order_ID</th>\n",
       "      <th>Item</th>\n",
       "      <th>Amount</th>\n",
       "      <th>Customer_ID</th>\n",
       "    </tr>\n",
       "  </thead>\n",
       "  <tbody>\n",
       "    <tr>\n",
       "      <th>0</th>\n",
       "      <td>1</td>\n",
       "      <td>Keyboard</td>\n",
       "      <td>400</td>\n",
       "      <td>139</td>\n",
       "    </tr>\n",
       "    <tr>\n",
       "      <th>1</th>\n",
       "      <td>2</td>\n",
       "      <td>Mouse</td>\n",
       "      <td>300</td>\n",
       "      <td>250</td>\n",
       "    </tr>\n",
       "    <tr>\n",
       "      <th>2</th>\n",
       "      <td>3</td>\n",
       "      <td>Monitor</td>\n",
       "      <td>12000</td>\n",
       "      <td>239</td>\n",
       "    </tr>\n",
       "    <tr>\n",
       "      <th>3</th>\n",
       "      <td>4</td>\n",
       "      <td>Keyboard</td>\n",
       "      <td>400</td>\n",
       "      <td>153</td>\n",
       "    </tr>\n",
       "    <tr>\n",
       "      <th>4</th>\n",
       "      <td>5</td>\n",
       "      <td>Mousepad</td>\n",
       "      <td>250</td>\n",
       "      <td>153</td>\n",
       "    </tr>\n",
       "  </tbody>\n",
       "</table>\n",
       "</div>"
      ],
      "text/plain": [
       "   Order_ID      Item  Amount  Customer_ID\n",
       "0         1  Keyboard     400          139\n",
       "1         2     Mouse     300          250\n",
       "2         3   Monitor   12000          239\n",
       "3         4  Keyboard     400          153\n",
       "4         5  Mousepad     250          153"
      ]
     },
     "execution_count": 9,
     "metadata": {},
     "output_type": "execute_result"
    }
   ],
   "source": [
    "# visual check of the top rows in the data frame\n",
    "order.head()"
   ]
  },
  {
   "cell_type": "code",
   "execution_count": 10,
   "id": "cf6db336",
   "metadata": {},
   "outputs": [
    {
     "name": "stdout",
     "output_type": "stream",
     "text": [
      "<class 'pandas.core.frame.DataFrame'>\n",
      "RangeIndex: 250 entries, 0 to 249\n",
      "Data columns (total 4 columns):\n",
      " #   Column       Non-Null Count  Dtype \n",
      "---  ------       --------------  ----- \n",
      " 0   Order_ID     250 non-null    int64 \n",
      " 1   Item         250 non-null    object\n",
      " 2   Amount       250 non-null    int64 \n",
      " 3   Customer_ID  250 non-null    int64 \n",
      "dtypes: int64(3), object(1)\n",
      "memory usage: 7.9+ KB\n"
     ]
    }
   ],
   "source": [
    "# order data frame - info of number of rows, columns, data types and constraints, if any\n",
    "order.info()"
   ]
  },
  {
   "cell_type": "code",
   "execution_count": 11,
   "id": "69c58a88",
   "metadata": {},
   "outputs": [
    {
     "data": {
      "text/html": [
       "<div>\n",
       "<style scoped>\n",
       "    .dataframe tbody tr th:only-of-type {\n",
       "        vertical-align: middle;\n",
       "    }\n",
       "\n",
       "    .dataframe tbody tr th {\n",
       "        vertical-align: top;\n",
       "    }\n",
       "\n",
       "    .dataframe thead th {\n",
       "        text-align: right;\n",
       "    }\n",
       "</style>\n",
       "<table border=\"1\" class=\"dataframe\">\n",
       "  <thead>\n",
       "    <tr style=\"text-align: right;\">\n",
       "      <th></th>\n",
       "      <th>Order_ID</th>\n",
       "      <th>Amount</th>\n",
       "      <th>Customer_ID</th>\n",
       "    </tr>\n",
       "  </thead>\n",
       "  <tbody>\n",
       "    <tr>\n",
       "      <th>count</th>\n",
       "      <td>250.000000</td>\n",
       "      <td>250.00000</td>\n",
       "      <td>250.000000</td>\n",
       "    </tr>\n",
       "    <tr>\n",
       "      <th>mean</th>\n",
       "      <td>125.500000</td>\n",
       "      <td>2130.00000</td>\n",
       "      <td>130.404000</td>\n",
       "    </tr>\n",
       "    <tr>\n",
       "      <th>std</th>\n",
       "      <td>72.312977</td>\n",
       "      <td>3575.43493</td>\n",
       "      <td>69.192711</td>\n",
       "    </tr>\n",
       "    <tr>\n",
       "      <th>min</th>\n",
       "      <td>1.000000</td>\n",
       "      <td>200.00000</td>\n",
       "      <td>4.000000</td>\n",
       "    </tr>\n",
       "    <tr>\n",
       "      <th>25%</th>\n",
       "      <td>63.250000</td>\n",
       "      <td>300.00000</td>\n",
       "      <td>71.500000</td>\n",
       "    </tr>\n",
       "    <tr>\n",
       "      <th>50%</th>\n",
       "      <td>125.500000</td>\n",
       "      <td>400.00000</td>\n",
       "      <td>125.500000</td>\n",
       "    </tr>\n",
       "    <tr>\n",
       "      <th>75%</th>\n",
       "      <td>187.750000</td>\n",
       "      <td>1500.00000</td>\n",
       "      <td>190.750000</td>\n",
       "    </tr>\n",
       "    <tr>\n",
       "      <th>max</th>\n",
       "      <td>250.000000</td>\n",
       "      <td>12000.00000</td>\n",
       "      <td>250.000000</td>\n",
       "    </tr>\n",
       "  </tbody>\n",
       "</table>\n",
       "</div>"
      ],
      "text/plain": [
       "         Order_ID       Amount  Customer_ID\n",
       "count  250.000000    250.00000   250.000000\n",
       "mean   125.500000   2130.00000   130.404000\n",
       "std     72.312977   3575.43493    69.192711\n",
       "min      1.000000    200.00000     4.000000\n",
       "25%     63.250000    300.00000    71.500000\n",
       "50%    125.500000    400.00000   125.500000\n",
       "75%    187.750000   1500.00000   190.750000\n",
       "max    250.000000  12000.00000   250.000000"
      ]
     },
     "execution_count": 11,
     "metadata": {},
     "output_type": "execute_result"
    }
   ],
   "source": [
    "# check the basic summary statistics of the columns in order data frame\n",
    "order.describe()"
   ]
  },
  {
   "cell_type": "code",
   "execution_count": 12,
   "id": "e2098dbe",
   "metadata": {},
   "outputs": [
    {
     "data": {
      "text/plain": [
       "160"
      ]
     },
     "execution_count": 12,
     "metadata": {},
     "output_type": "execute_result"
    }
   ],
   "source": [
    "# check the no. of unique customers in the order data frame\n",
    "order.Customer_ID.nunique()"
   ]
  },
  {
   "cell_type": "code",
   "execution_count": 13,
   "id": "3c03f784",
   "metadata": {},
   "outputs": [
    {
     "data": {
      "text/plain": [
       "250"
      ]
     },
     "execution_count": 13,
     "metadata": {},
     "output_type": "execute_result"
    }
   ],
   "source": [
    "# check the no. of unique Order_IDs\n",
    "order.Order_ID.nunique()"
   ]
  },
  {
   "cell_type": "code",
   "execution_count": 14,
   "id": "50e36c15",
   "metadata": {},
   "outputs": [
    {
     "data": {
      "text/html": [
       "<div>\n",
       "<style scoped>\n",
       "    .dataframe tbody tr th:only-of-type {\n",
       "        vertical-align: middle;\n",
       "    }\n",
       "\n",
       "    .dataframe tbody tr th {\n",
       "        vertical-align: top;\n",
       "    }\n",
       "\n",
       "    .dataframe thead th {\n",
       "        text-align: right;\n",
       "    }\n",
       "</style>\n",
       "<table border=\"1\" class=\"dataframe\">\n",
       "  <thead>\n",
       "    <tr style=\"text-align: right;\">\n",
       "      <th></th>\n",
       "      <th>Shipping_ID</th>\n",
       "      <th>Status</th>\n",
       "      <th>Customer_ID</th>\n",
       "    </tr>\n",
       "  </thead>\n",
       "  <tbody>\n",
       "    <tr>\n",
       "      <th>0</th>\n",
       "      <td>1</td>\n",
       "      <td>Pending</td>\n",
       "      <td>173</td>\n",
       "    </tr>\n",
       "    <tr>\n",
       "      <th>1</th>\n",
       "      <td>2</td>\n",
       "      <td>Pending</td>\n",
       "      <td>155</td>\n",
       "    </tr>\n",
       "    <tr>\n",
       "      <th>2</th>\n",
       "      <td>3</td>\n",
       "      <td>Delivered</td>\n",
       "      <td>242</td>\n",
       "    </tr>\n",
       "    <tr>\n",
       "      <th>3</th>\n",
       "      <td>4</td>\n",
       "      <td>Pending</td>\n",
       "      <td>223</td>\n",
       "    </tr>\n",
       "    <tr>\n",
       "      <th>4</th>\n",
       "      <td>5</td>\n",
       "      <td>Delivered</td>\n",
       "      <td>72</td>\n",
       "    </tr>\n",
       "  </tbody>\n",
       "</table>\n",
       "</div>"
      ],
      "text/plain": [
       "   Shipping_ID     Status  Customer_ID\n",
       "0            1    Pending          173\n",
       "1            2    Pending          155\n",
       "2            3  Delivered          242\n",
       "3            4    Pending          223\n",
       "4            5  Delivered           72"
      ]
     },
     "execution_count": 14,
     "metadata": {},
     "output_type": "execute_result"
    }
   ],
   "source": [
    "# visual check of the top rows in the data frame\n",
    "shipping.head()"
   ]
  },
  {
   "cell_type": "code",
   "execution_count": 15,
   "id": "2bc301e2",
   "metadata": {},
   "outputs": [
    {
     "data": {
      "text/plain": [
       "154"
      ]
     },
     "execution_count": 15,
     "metadata": {},
     "output_type": "execute_result"
    }
   ],
   "source": [
    "# check if a customer has multiple shipping IDs\n",
    "shipping.Shipping_ID.nunique()\n",
    "shipping.Customer_ID.nunique()"
   ]
  },
  {
   "cell_type": "code",
   "execution_count": 16,
   "id": "c526fce0",
   "metadata": {},
   "outputs": [
    {
     "name": "stdout",
     "output_type": "stream",
     "text": [
      "<class 'pandas.core.frame.DataFrame'>\n",
      "RangeIndex: 250 entries, 0 to 249\n",
      "Data columns (total 3 columns):\n",
      " #   Column       Non-Null Count  Dtype \n",
      "---  ------       --------------  ----- \n",
      " 0   Shipping_ID  250 non-null    int64 \n",
      " 1   Status       250 non-null    object\n",
      " 2   Customer_ID  250 non-null    int64 \n",
      "dtypes: int64(2), object(1)\n",
      "memory usage: 6.0+ KB\n"
     ]
    }
   ],
   "source": [
    "# shipping data frame - info of number of rows, columns, data types and constraints, if any\n",
    "shipping.info()"
   ]
  },
  {
   "cell_type": "code",
   "execution_count": 17,
   "id": "64b5d9d8",
   "metadata": {},
   "outputs": [
    {
     "data": {
      "text/html": [
       "<div>\n",
       "<style scoped>\n",
       "    .dataframe tbody tr th:only-of-type {\n",
       "        vertical-align: middle;\n",
       "    }\n",
       "\n",
       "    .dataframe tbody tr th {\n",
       "        vertical-align: top;\n",
       "    }\n",
       "\n",
       "    .dataframe thead th {\n",
       "        text-align: right;\n",
       "    }\n",
       "</style>\n",
       "<table border=\"1\" class=\"dataframe\">\n",
       "  <thead>\n",
       "    <tr style=\"text-align: right;\">\n",
       "      <th></th>\n",
       "      <th>Shipping_ID</th>\n",
       "      <th>Customer_ID</th>\n",
       "    </tr>\n",
       "  </thead>\n",
       "  <tbody>\n",
       "    <tr>\n",
       "      <th>count</th>\n",
       "      <td>250.000000</td>\n",
       "      <td>250.000000</td>\n",
       "    </tr>\n",
       "    <tr>\n",
       "      <th>mean</th>\n",
       "      <td>125.500000</td>\n",
       "      <td>120.620000</td>\n",
       "    </tr>\n",
       "    <tr>\n",
       "      <th>std</th>\n",
       "      <td>72.312977</td>\n",
       "      <td>73.893848</td>\n",
       "    </tr>\n",
       "    <tr>\n",
       "      <th>min</th>\n",
       "      <td>1.000000</td>\n",
       "      <td>1.000000</td>\n",
       "    </tr>\n",
       "    <tr>\n",
       "      <th>25%</th>\n",
       "      <td>63.250000</td>\n",
       "      <td>53.250000</td>\n",
       "    </tr>\n",
       "    <tr>\n",
       "      <th>50%</th>\n",
       "      <td>125.500000</td>\n",
       "      <td>118.000000</td>\n",
       "    </tr>\n",
       "    <tr>\n",
       "      <th>75%</th>\n",
       "      <td>187.750000</td>\n",
       "      <td>187.500000</td>\n",
       "    </tr>\n",
       "    <tr>\n",
       "      <th>max</th>\n",
       "      <td>250.000000</td>\n",
       "      <td>248.000000</td>\n",
       "    </tr>\n",
       "  </tbody>\n",
       "</table>\n",
       "</div>"
      ],
      "text/plain": [
       "       Shipping_ID  Customer_ID\n",
       "count   250.000000   250.000000\n",
       "mean    125.500000   120.620000\n",
       "std      72.312977    73.893848\n",
       "min       1.000000     1.000000\n",
       "25%      63.250000    53.250000\n",
       "50%     125.500000   118.000000\n",
       "75%     187.750000   187.500000\n",
       "max     250.000000   248.000000"
      ]
     },
     "execution_count": 17,
     "metadata": {},
     "output_type": "execute_result"
    }
   ],
   "source": [
    "# check the basic summary statistics of the columns in shipping data frame\n",
    "shipping.describe()"
   ]
  },
  {
   "cell_type": "code",
   "execution_count": 18,
   "id": "d1e24d6d",
   "metadata": {},
   "outputs": [
    {
     "data": {
      "text/plain": [
       "array(['Pending', 'Delivered'], dtype=object)"
      ]
     },
     "execution_count": 18,
     "metadata": {},
     "output_type": "execute_result"
    }
   ],
   "source": [
    "# check the unique values present in the \"status\" column of the data frame\n",
    "shipping.Status.unique()"
   ]
  },
  {
   "cell_type": "code",
   "execution_count": 19,
   "id": "8743cfe6",
   "metadata": {},
   "outputs": [
    {
     "data": {
      "text/plain": [
       "154"
      ]
     },
     "execution_count": 19,
     "metadata": {},
     "output_type": "execute_result"
    }
   ],
   "source": [
    "# check the no. of unique customers in the shipping data frame \n",
    "shipping.Customer_ID.nunique()"
   ]
  },
  {
   "cell_type": "code",
   "execution_count": 20,
   "id": "4cde704e",
   "metadata": {},
   "outputs": [],
   "source": [
    "shipping_duplicates = shipping['Shipping_ID'].duplicated().any()"
   ]
  },
  {
   "cell_type": "code",
   "execution_count": 21,
   "id": "7c17f28d",
   "metadata": {},
   "outputs": [
    {
     "data": {
      "text/plain": [
       "False"
      ]
     },
     "execution_count": 21,
     "metadata": {},
     "output_type": "execute_result"
    }
   ],
   "source": [
    "# check if there are any shipping_id duplicates \n",
    "shipping_duplicates"
   ]
  },
  {
   "cell_type": "code",
   "execution_count": 22,
   "id": "2a4bf43b",
   "metadata": {},
   "outputs": [],
   "source": [
    "shipping_cus_duplicates = shipping['Customer_ID'].duplicated().any()"
   ]
  },
  {
   "cell_type": "code",
   "execution_count": 23,
   "id": "efdcb76d",
   "metadata": {},
   "outputs": [
    {
     "data": {
      "text/plain": [
       "True"
      ]
     },
     "execution_count": 23,
     "metadata": {},
     "output_type": "execute_result"
    }
   ],
   "source": [
    "# check if there are any customers with multiple entries. \n",
    "# this could be possible if the customer has multiple orders. \n",
    "shipping_cus_duplicates"
   ]
  },
  {
   "cell_type": "code",
   "execution_count": 24,
   "id": "192ffd3f",
   "metadata": {},
   "outputs": [],
   "source": [
    "# join (inner) customer and order data frames using Customer_ID as the joining key\n",
    "\n",
    "cus_order = pd.merge(order, customer, on='Customer_ID', how='inner')"
   ]
  },
  {
   "cell_type": "code",
   "execution_count": 25,
   "id": "c1cc0e42",
   "metadata": {},
   "outputs": [
    {
     "data": {
      "text/html": [
       "<div>\n",
       "<style scoped>\n",
       "    .dataframe tbody tr th:only-of-type {\n",
       "        vertical-align: middle;\n",
       "    }\n",
       "\n",
       "    .dataframe tbody tr th {\n",
       "        vertical-align: top;\n",
       "    }\n",
       "\n",
       "    .dataframe thead th {\n",
       "        text-align: right;\n",
       "    }\n",
       "</style>\n",
       "<table border=\"1\" class=\"dataframe\">\n",
       "  <thead>\n",
       "    <tr style=\"text-align: right;\">\n",
       "      <th></th>\n",
       "      <th>Order_ID</th>\n",
       "      <th>Item</th>\n",
       "      <th>Amount</th>\n",
       "      <th>Customer_ID</th>\n",
       "      <th>First</th>\n",
       "      <th>Last</th>\n",
       "      <th>Age</th>\n",
       "      <th>Country</th>\n",
       "    </tr>\n",
       "  </thead>\n",
       "  <tbody>\n",
       "    <tr>\n",
       "      <th>0</th>\n",
       "      <td>1</td>\n",
       "      <td>Keyboard</td>\n",
       "      <td>400</td>\n",
       "      <td>139</td>\n",
       "      <td>Ryan</td>\n",
       "      <td>Martin</td>\n",
       "      <td>61</td>\n",
       "      <td>UK</td>\n",
       "    </tr>\n",
       "    <tr>\n",
       "      <th>1</th>\n",
       "      <td>2</td>\n",
       "      <td>Mouse</td>\n",
       "      <td>300</td>\n",
       "      <td>250</td>\n",
       "      <td>Stephen</td>\n",
       "      <td>Jones</td>\n",
       "      <td>22</td>\n",
       "      <td>USA</td>\n",
       "    </tr>\n",
       "    <tr>\n",
       "      <th>2</th>\n",
       "      <td>3</td>\n",
       "      <td>Monitor</td>\n",
       "      <td>12000</td>\n",
       "      <td>239</td>\n",
       "      <td>Janet</td>\n",
       "      <td>Holmes</td>\n",
       "      <td>36</td>\n",
       "      <td>UK</td>\n",
       "    </tr>\n",
       "    <tr>\n",
       "      <th>3</th>\n",
       "      <td>211</td>\n",
       "      <td>Keyboard</td>\n",
       "      <td>400</td>\n",
       "      <td>239</td>\n",
       "      <td>Janet</td>\n",
       "      <td>Holmes</td>\n",
       "      <td>36</td>\n",
       "      <td>UK</td>\n",
       "    </tr>\n",
       "    <tr>\n",
       "      <th>4</th>\n",
       "      <td>4</td>\n",
       "      <td>Keyboard</td>\n",
       "      <td>400</td>\n",
       "      <td>153</td>\n",
       "      <td>Janet</td>\n",
       "      <td>Valdez</td>\n",
       "      <td>29</td>\n",
       "      <td>UK</td>\n",
       "    </tr>\n",
       "  </tbody>\n",
       "</table>\n",
       "</div>"
      ],
      "text/plain": [
       "   Order_ID      Item  Amount  Customer_ID    First    Last  Age Country\n",
       "0         1  Keyboard     400          139     Ryan  Martin   61      UK\n",
       "1         2     Mouse     300          250  Stephen   Jones   22     USA\n",
       "2         3   Monitor   12000          239    Janet  Holmes   36      UK\n",
       "3       211  Keyboard     400          239    Janet  Holmes   36      UK\n",
       "4         4  Keyboard     400          153    Janet  Valdez   29      UK"
      ]
     },
     "execution_count": 25,
     "metadata": {},
     "output_type": "execute_result"
    }
   ],
   "source": [
    "# visual check of the top rows of the merged data frame\n",
    "cus_order.head()"
   ]
  },
  {
   "cell_type": "code",
   "execution_count": 26,
   "id": "233c46ae",
   "metadata": {},
   "outputs": [
    {
     "data": {
      "text/plain": [
       "(250, 8)"
      ]
     },
     "execution_count": 26,
     "metadata": {},
     "output_type": "execute_result"
    }
   ],
   "source": [
    "cus_order.shape"
   ]
  },
  {
   "cell_type": "code",
   "execution_count": 27,
   "id": "5aebb944",
   "metadata": {},
   "outputs": [
    {
     "data": {
      "text/plain": [
       "160"
      ]
     },
     "execution_count": 27,
     "metadata": {},
     "output_type": "execute_result"
    }
   ],
   "source": [
    "# check the no. of unique customers in the combined data frame\n",
    "cus_order.Customer_ID.nunique()"
   ]
  },
  {
   "cell_type": "code",
   "execution_count": 28,
   "id": "e2be2d6e",
   "metadata": {},
   "outputs": [],
   "source": [
    "# get the list of customers who have more than one order in the cus_order data frame\n",
    "cus_order_counts = cus_order['Customer_ID'].value_counts()"
   ]
  },
  {
   "cell_type": "code",
   "execution_count": 29,
   "id": "9009e5b5",
   "metadata": {},
   "outputs": [],
   "source": [
    "# create a data frame of customers with single orders\n",
    "# we will use this list of customers to check if they have multiple shipping entries\n",
    "single_order_customers = sorted(cus_order_counts[cus_order_counts==1].index.tolist())"
   ]
  },
  {
   "cell_type": "code",
   "execution_count": 30,
   "id": "dcb338c8",
   "metadata": {},
   "outputs": [],
   "source": [
    "# convert to a data frame\n",
    "single_order_customers = pd.DataFrame(single_order_customers)\n",
    "single_order_customers.columns = ['Customer_ID']"
   ]
  },
  {
   "cell_type": "code",
   "execution_count": 31,
   "id": "e20c85e6",
   "metadata": {},
   "outputs": [
    {
     "data": {
      "text/html": [
       "<div>\n",
       "<style scoped>\n",
       "    .dataframe tbody tr th:only-of-type {\n",
       "        vertical-align: middle;\n",
       "    }\n",
       "\n",
       "    .dataframe tbody tr th {\n",
       "        vertical-align: top;\n",
       "    }\n",
       "\n",
       "    .dataframe thead th {\n",
       "        text-align: right;\n",
       "    }\n",
       "</style>\n",
       "<table border=\"1\" class=\"dataframe\">\n",
       "  <thead>\n",
       "    <tr style=\"text-align: right;\">\n",
       "      <th></th>\n",
       "      <th>Customer_ID</th>\n",
       "    </tr>\n",
       "  </thead>\n",
       "  <tbody>\n",
       "    <tr>\n",
       "      <th>0</th>\n",
       "      <td>4</td>\n",
       "    </tr>\n",
       "    <tr>\n",
       "      <th>1</th>\n",
       "      <td>5</td>\n",
       "    </tr>\n",
       "    <tr>\n",
       "      <th>2</th>\n",
       "      <td>10</td>\n",
       "    </tr>\n",
       "    <tr>\n",
       "      <th>3</th>\n",
       "      <td>12</td>\n",
       "    </tr>\n",
       "    <tr>\n",
       "      <th>4</th>\n",
       "      <td>15</td>\n",
       "    </tr>\n",
       "    <tr>\n",
       "      <th>...</th>\n",
       "      <td>...</td>\n",
       "    </tr>\n",
       "    <tr>\n",
       "      <th>95</th>\n",
       "      <td>242</td>\n",
       "    </tr>\n",
       "    <tr>\n",
       "      <th>96</th>\n",
       "      <td>243</td>\n",
       "    </tr>\n",
       "    <tr>\n",
       "      <th>97</th>\n",
       "      <td>244</td>\n",
       "    </tr>\n",
       "    <tr>\n",
       "      <th>98</th>\n",
       "      <td>246</td>\n",
       "    </tr>\n",
       "    <tr>\n",
       "      <th>99</th>\n",
       "      <td>250</td>\n",
       "    </tr>\n",
       "  </tbody>\n",
       "</table>\n",
       "<p>100 rows × 1 columns</p>\n",
       "</div>"
      ],
      "text/plain": [
       "    Customer_ID\n",
       "0             4\n",
       "1             5\n",
       "2            10\n",
       "3            12\n",
       "4            15\n",
       "..          ...\n",
       "95          242\n",
       "96          243\n",
       "97          244\n",
       "98          246\n",
       "99          250\n",
       "\n",
       "[100 rows x 1 columns]"
      ]
     },
     "execution_count": 31,
     "metadata": {},
     "output_type": "execute_result"
    }
   ],
   "source": [
    "# print the list of single order customers\n",
    "single_order_customers"
   ]
  },
  {
   "cell_type": "code",
   "execution_count": 32,
   "id": "8fb4b114",
   "metadata": {},
   "outputs": [],
   "source": [
    "# get the shipping data for these single order customers\n",
    "single_order_cus_shipping = shipping[shipping['Customer_ID'].isin(single_order_customers['Customer_ID'])]"
   ]
  },
  {
   "cell_type": "code",
   "execution_count": 33,
   "id": "b53c77ac",
   "metadata": {},
   "outputs": [
    {
     "data": {
      "text/html": [
       "<div>\n",
       "<style scoped>\n",
       "    .dataframe tbody tr th:only-of-type {\n",
       "        vertical-align: middle;\n",
       "    }\n",
       "\n",
       "    .dataframe tbody tr th {\n",
       "        vertical-align: top;\n",
       "    }\n",
       "\n",
       "    .dataframe thead th {\n",
       "        text-align: right;\n",
       "    }\n",
       "</style>\n",
       "<table border=\"1\" class=\"dataframe\">\n",
       "  <thead>\n",
       "    <tr style=\"text-align: right;\">\n",
       "      <th></th>\n",
       "      <th>Shipping_ID</th>\n",
       "      <th>Status</th>\n",
       "      <th>Customer_ID</th>\n",
       "    </tr>\n",
       "  </thead>\n",
       "  <tbody>\n",
       "    <tr>\n",
       "      <th>2</th>\n",
       "      <td>3</td>\n",
       "      <td>Delivered</td>\n",
       "      <td>242</td>\n",
       "    </tr>\n",
       "    <tr>\n",
       "      <th>5</th>\n",
       "      <td>6</td>\n",
       "      <td>Pending</td>\n",
       "      <td>29</td>\n",
       "    </tr>\n",
       "    <tr>\n",
       "      <th>6</th>\n",
       "      <td>7</td>\n",
       "      <td>Pending</td>\n",
       "      <td>236</td>\n",
       "    </tr>\n",
       "    <tr>\n",
       "      <th>9</th>\n",
       "      <td>10</td>\n",
       "      <td>Delivered</td>\n",
       "      <td>17</td>\n",
       "    </tr>\n",
       "    <tr>\n",
       "      <th>11</th>\n",
       "      <td>12</td>\n",
       "      <td>Pending</td>\n",
       "      <td>37</td>\n",
       "    </tr>\n",
       "    <tr>\n",
       "      <th>...</th>\n",
       "      <td>...</td>\n",
       "      <td>...</td>\n",
       "      <td>...</td>\n",
       "    </tr>\n",
       "    <tr>\n",
       "      <th>239</th>\n",
       "      <td>240</td>\n",
       "      <td>Delivered</td>\n",
       "      <td>10</td>\n",
       "    </tr>\n",
       "    <tr>\n",
       "      <th>242</th>\n",
       "      <td>243</td>\n",
       "      <td>Delivered</td>\n",
       "      <td>135</td>\n",
       "    </tr>\n",
       "    <tr>\n",
       "      <th>245</th>\n",
       "      <td>246</td>\n",
       "      <td>Pending</td>\n",
       "      <td>171</td>\n",
       "    </tr>\n",
       "    <tr>\n",
       "      <th>246</th>\n",
       "      <td>247</td>\n",
       "      <td>Pending</td>\n",
       "      <td>40</td>\n",
       "    </tr>\n",
       "    <tr>\n",
       "      <th>247</th>\n",
       "      <td>248</td>\n",
       "      <td>Delivered</td>\n",
       "      <td>37</td>\n",
       "    </tr>\n",
       "  </tbody>\n",
       "</table>\n",
       "<p>97 rows × 3 columns</p>\n",
       "</div>"
      ],
      "text/plain": [
       "     Shipping_ID     Status  Customer_ID\n",
       "2              3  Delivered          242\n",
       "5              6    Pending           29\n",
       "6              7    Pending          236\n",
       "9             10  Delivered           17\n",
       "11            12    Pending           37\n",
       "..           ...        ...          ...\n",
       "239          240  Delivered           10\n",
       "242          243  Delivered          135\n",
       "245          246    Pending          171\n",
       "246          247    Pending           40\n",
       "247          248  Delivered           37\n",
       "\n",
       "[97 rows x 3 columns]"
      ]
     },
     "execution_count": 33,
     "metadata": {},
     "output_type": "execute_result"
    }
   ],
   "source": [
    "single_order_cus_shipping"
   ]
  },
  {
   "cell_type": "code",
   "execution_count": 34,
   "id": "1edadd82",
   "metadata": {},
   "outputs": [],
   "source": [
    "# check for duplicate shipping records for these single order customers. we take customer_id as the counting key\n",
    "single_order_cus_shipping_duplicates = single_order_cus_shipping['Customer_ID'].value_counts()"
   ]
  },
  {
   "cell_type": "code",
   "execution_count": 35,
   "id": "8b23742c",
   "metadata": {},
   "outputs": [
    {
     "data": {
      "text/plain": [
       "35     4\n",
       "242    3\n",
       "40     3\n",
       "91     3\n",
       "30     3\n",
       "      ..\n",
       "196    1\n",
       "218    1\n",
       "228    1\n",
       "150    1\n",
       "188    1\n",
       "Name: Customer_ID, Length: 61, dtype: int64"
      ]
     },
     "execution_count": 35,
     "metadata": {},
     "output_type": "execute_result"
    }
   ],
   "source": [
    "single_order_cus_shipping_duplicates"
   ]
  },
  {
   "cell_type": "code",
   "execution_count": 36,
   "id": "2ed2b771",
   "metadata": {},
   "outputs": [],
   "source": [
    "# taking one of the customers who had one order but multiple shipping_ids\n",
    "shipping_duplicate = shipping[shipping['Customer_ID']==35]"
   ]
  },
  {
   "cell_type": "code",
   "execution_count": 37,
   "id": "8c303c69",
   "metadata": {},
   "outputs": [
    {
     "data": {
      "text/html": [
       "<div>\n",
       "<style scoped>\n",
       "    .dataframe tbody tr th:only-of-type {\n",
       "        vertical-align: middle;\n",
       "    }\n",
       "\n",
       "    .dataframe tbody tr th {\n",
       "        vertical-align: top;\n",
       "    }\n",
       "\n",
       "    .dataframe thead th {\n",
       "        text-align: right;\n",
       "    }\n",
       "</style>\n",
       "<table border=\"1\" class=\"dataframe\">\n",
       "  <thead>\n",
       "    <tr style=\"text-align: right;\">\n",
       "      <th></th>\n",
       "      <th>Shipping_ID</th>\n",
       "      <th>Status</th>\n",
       "      <th>Customer_ID</th>\n",
       "    </tr>\n",
       "  </thead>\n",
       "  <tbody>\n",
       "    <tr>\n",
       "      <th>55</th>\n",
       "      <td>56</td>\n",
       "      <td>Pending</td>\n",
       "      <td>35</td>\n",
       "    </tr>\n",
       "    <tr>\n",
       "      <th>101</th>\n",
       "      <td>102</td>\n",
       "      <td>Pending</td>\n",
       "      <td>35</td>\n",
       "    </tr>\n",
       "    <tr>\n",
       "      <th>145</th>\n",
       "      <td>146</td>\n",
       "      <td>Pending</td>\n",
       "      <td>35</td>\n",
       "    </tr>\n",
       "    <tr>\n",
       "      <th>179</th>\n",
       "      <td>180</td>\n",
       "      <td>Delivered</td>\n",
       "      <td>35</td>\n",
       "    </tr>\n",
       "  </tbody>\n",
       "</table>\n",
       "</div>"
      ],
      "text/plain": [
       "     Shipping_ID     Status  Customer_ID\n",
       "55            56    Pending           35\n",
       "101          102    Pending           35\n",
       "145          146    Pending           35\n",
       "179          180  Delivered           35"
      ]
     },
     "execution_count": 37,
     "metadata": {},
     "output_type": "execute_result"
    }
   ],
   "source": [
    "shipping_duplicate"
   ]
  },
  {
   "cell_type": "code",
   "execution_count": 38,
   "id": "af43a6b6",
   "metadata": {},
   "outputs": [],
   "source": [
    "# cross-check to see if this customer had indeed one order in order data frame\n",
    "cus_35_order = order[order['Customer_ID']==35]"
   ]
  },
  {
   "cell_type": "code",
   "execution_count": 39,
   "id": "dafda371",
   "metadata": {},
   "outputs": [
    {
     "data": {
      "text/html": [
       "<div>\n",
       "<style scoped>\n",
       "    .dataframe tbody tr th:only-of-type {\n",
       "        vertical-align: middle;\n",
       "    }\n",
       "\n",
       "    .dataframe tbody tr th {\n",
       "        vertical-align: top;\n",
       "    }\n",
       "\n",
       "    .dataframe thead th {\n",
       "        text-align: right;\n",
       "    }\n",
       "</style>\n",
       "<table border=\"1\" class=\"dataframe\">\n",
       "  <thead>\n",
       "    <tr style=\"text-align: right;\">\n",
       "      <th></th>\n",
       "      <th>Order_ID</th>\n",
       "      <th>Item</th>\n",
       "      <th>Amount</th>\n",
       "      <th>Customer_ID</th>\n",
       "    </tr>\n",
       "  </thead>\n",
       "  <tbody>\n",
       "    <tr>\n",
       "      <th>120</th>\n",
       "      <td>121</td>\n",
       "      <td>Keyboard</td>\n",
       "      <td>400</td>\n",
       "      <td>35</td>\n",
       "    </tr>\n",
       "  </tbody>\n",
       "</table>\n",
       "</div>"
      ],
      "text/plain": [
       "     Order_ID      Item  Amount  Customer_ID\n",
       "120       121  Keyboard     400           35"
      ]
     },
     "execution_count": 39,
     "metadata": {},
     "output_type": "execute_result"
    }
   ],
   "source": [
    "cus_35_order"
   ]
  },
  {
   "cell_type": "markdown",
   "id": "373d4db7",
   "metadata": {},
   "source": [
    "There seems to be multiple shipping records for one single order"
   ]
  },
  {
   "cell_type": "code",
   "execution_count": 40,
   "id": "463651a3",
   "metadata": {},
   "outputs": [],
   "source": [
    "# join cus_order data frame with shipping info which is available at a customer level. Join using Customer_ID\n",
    "\n",
    "cus_order_ship = pd.merge(cus_order, shipping, on='Customer_ID', how='inner')"
   ]
  },
  {
   "cell_type": "code",
   "execution_count": 41,
   "id": "a12ada8a",
   "metadata": {},
   "outputs": [
    {
     "data": {
      "text/plain": [
       "(233, 10)"
      ]
     },
     "execution_count": 41,
     "metadata": {},
     "output_type": "execute_result"
    }
   ],
   "source": [
    "cus_order_ship.shape"
   ]
  },
  {
   "cell_type": "code",
   "execution_count": 42,
   "id": "f28bcec8",
   "metadata": {},
   "outputs": [
    {
     "data": {
      "text/html": [
       "<div>\n",
       "<style scoped>\n",
       "    .dataframe tbody tr th:only-of-type {\n",
       "        vertical-align: middle;\n",
       "    }\n",
       "\n",
       "    .dataframe tbody tr th {\n",
       "        vertical-align: top;\n",
       "    }\n",
       "\n",
       "    .dataframe thead th {\n",
       "        text-align: right;\n",
       "    }\n",
       "</style>\n",
       "<table border=\"1\" class=\"dataframe\">\n",
       "  <thead>\n",
       "    <tr style=\"text-align: right;\">\n",
       "      <th></th>\n",
       "      <th>Order_ID</th>\n",
       "      <th>Item</th>\n",
       "      <th>Amount</th>\n",
       "      <th>Customer_ID</th>\n",
       "      <th>First</th>\n",
       "      <th>Last</th>\n",
       "      <th>Age</th>\n",
       "      <th>Country</th>\n",
       "      <th>Shipping_ID</th>\n",
       "      <th>Status</th>\n",
       "    </tr>\n",
       "  </thead>\n",
       "  <tbody>\n",
       "    <tr>\n",
       "      <th>0</th>\n",
       "      <td>6</td>\n",
       "      <td>Harddisk</td>\n",
       "      <td>5000</td>\n",
       "      <td>164</td>\n",
       "      <td>Sandra</td>\n",
       "      <td>Mcmahon</td>\n",
       "      <td>34</td>\n",
       "      <td>UK</td>\n",
       "      <td>220</td>\n",
       "      <td>Delivered</td>\n",
       "    </tr>\n",
       "    <tr>\n",
       "      <th>1</th>\n",
       "      <td>59</td>\n",
       "      <td>DDR RAM</td>\n",
       "      <td>1500</td>\n",
       "      <td>164</td>\n",
       "      <td>Sandra</td>\n",
       "      <td>Mcmahon</td>\n",
       "      <td>34</td>\n",
       "      <td>UK</td>\n",
       "      <td>220</td>\n",
       "      <td>Delivered</td>\n",
       "    </tr>\n",
       "    <tr>\n",
       "      <th>2</th>\n",
       "      <td>8</td>\n",
       "      <td>Mousepad</td>\n",
       "      <td>200</td>\n",
       "      <td>98</td>\n",
       "      <td>Steve</td>\n",
       "      <td>Braun</td>\n",
       "      <td>72</td>\n",
       "      <td>UK</td>\n",
       "      <td>122</td>\n",
       "      <td>Pending</td>\n",
       "    </tr>\n",
       "    <tr>\n",
       "      <th>3</th>\n",
       "      <td>133</td>\n",
       "      <td>Monitor</td>\n",
       "      <td>12000</td>\n",
       "      <td>98</td>\n",
       "      <td>Steve</td>\n",
       "      <td>Braun</td>\n",
       "      <td>72</td>\n",
       "      <td>UK</td>\n",
       "      <td>122</td>\n",
       "      <td>Pending</td>\n",
       "    </tr>\n",
       "    <tr>\n",
       "      <th>4</th>\n",
       "      <td>202</td>\n",
       "      <td>Mouse</td>\n",
       "      <td>300</td>\n",
       "      <td>98</td>\n",
       "      <td>Steve</td>\n",
       "      <td>Braun</td>\n",
       "      <td>72</td>\n",
       "      <td>UK</td>\n",
       "      <td>122</td>\n",
       "      <td>Pending</td>\n",
       "    </tr>\n",
       "  </tbody>\n",
       "</table>\n",
       "</div>"
      ],
      "text/plain": [
       "   Order_ID      Item  Amount  Customer_ID   First     Last  Age Country  \\\n",
       "0         6  Harddisk    5000          164  Sandra  Mcmahon   34      UK   \n",
       "1        59   DDR RAM    1500          164  Sandra  Mcmahon   34      UK   \n",
       "2         8  Mousepad     200           98   Steve    Braun   72      UK   \n",
       "3       133   Monitor   12000           98   Steve    Braun   72      UK   \n",
       "4       202     Mouse     300           98   Steve    Braun   72      UK   \n",
       "\n",
       "   Shipping_ID     Status  \n",
       "0          220  Delivered  \n",
       "1          220  Delivered  \n",
       "2          122    Pending  \n",
       "3          122    Pending  \n",
       "4          122    Pending  "
      ]
     },
     "execution_count": 42,
     "metadata": {},
     "output_type": "execute_result"
    }
   ],
   "source": [
    "# visual check of the top rows in the combined data frame\n",
    "cus_order_ship.head()"
   ]
  },
  {
   "cell_type": "code",
   "execution_count": 43,
   "id": "72917512",
   "metadata": {},
   "outputs": [
    {
     "data": {
      "text/plain": [
       "99"
      ]
     },
     "execution_count": 43,
     "metadata": {},
     "output_type": "execute_result"
    }
   ],
   "source": [
    "# check the no. of unique customers in the combined data frame\n",
    "cus_order_ship.Customer_ID.nunique()"
   ]
  },
  {
   "cell_type": "code",
   "execution_count": 44,
   "id": "6aa83650",
   "metadata": {},
   "outputs": [],
   "source": [
    "cus_order_ship_counts = cus_order_ship['Customer_ID'].value_counts()"
   ]
  },
  {
   "cell_type": "code",
   "execution_count": 45,
   "id": "57bc7d4e",
   "metadata": {},
   "outputs": [],
   "source": [
    "multi_order_customers_ship = sorted(cus_order_ship_counts[cus_order_ship_counts>1].index.tolist())"
   ]
  },
  {
   "cell_type": "code",
   "execution_count": 46,
   "id": "b9a305ee",
   "metadata": {},
   "outputs": [
    {
     "data": {
      "text/plain": [
       "63"
      ]
     },
     "execution_count": 46,
     "metadata": {},
     "output_type": "execute_result"
    }
   ],
   "source": [
    "len(multi_order_customers_ship)"
   ]
  },
  {
   "cell_type": "code",
   "execution_count": 47,
   "id": "e7f9a396",
   "metadata": {},
   "outputs": [],
   "source": [
    "# check for duplicates in shipping data frame. We can check the column \"Shipping_ID\" for the same\n",
    "duplicate_shipping_ids = shipping['Shipping_ID'].duplicated()"
   ]
  },
  {
   "cell_type": "code",
   "execution_count": 48,
   "id": "cc5db379",
   "metadata": {},
   "outputs": [],
   "source": [
    "duplicate_shipping_ids = shipping[shipping['Shipping_ID'].duplicated(keep=False)]"
   ]
  },
  {
   "cell_type": "code",
   "execution_count": 49,
   "id": "0e4f3ba2",
   "metadata": {},
   "outputs": [
    {
     "data": {
      "text/html": [
       "<div>\n",
       "<style scoped>\n",
       "    .dataframe tbody tr th:only-of-type {\n",
       "        vertical-align: middle;\n",
       "    }\n",
       "\n",
       "    .dataframe tbody tr th {\n",
       "        vertical-align: top;\n",
       "    }\n",
       "\n",
       "    .dataframe thead th {\n",
       "        text-align: right;\n",
       "    }\n",
       "</style>\n",
       "<table border=\"1\" class=\"dataframe\">\n",
       "  <thead>\n",
       "    <tr style=\"text-align: right;\">\n",
       "      <th></th>\n",
       "      <th>Shipping_ID</th>\n",
       "      <th>Status</th>\n",
       "      <th>Customer_ID</th>\n",
       "    </tr>\n",
       "  </thead>\n",
       "  <tbody>\n",
       "  </tbody>\n",
       "</table>\n",
       "</div>"
      ],
      "text/plain": [
       "Empty DataFrame\n",
       "Columns: [Shipping_ID, Status, Customer_ID]\n",
       "Index: []"
      ]
     },
     "execution_count": 49,
     "metadata": {},
     "output_type": "execute_result"
    }
   ],
   "source": [
    "duplicate_shipping_ids"
   ]
  },
  {
   "cell_type": "markdown",
   "id": "e6deac1c",
   "metadata": {},
   "source": [
    " No duplicate shipping ids are found"
   ]
  },
  {
   "cell_type": "markdown",
   "id": "ebdde572",
   "metadata": {},
   "source": [
    "### Summary of the findings \n",
    "* Customer data has in total **250** unique customers.\n",
    "* Order data has in total **250** orders from **160** customers. There are records where a customer has made multiple orders and a few customers who have not made any orders at all. Therefore, we can deduce that the *customer to order must have a one to many cardinality*.\n",
    "* Shipping data has in total **154** customers data. The status can be either \"**Pending**\" or \"**Delivered**\" based on the given data set. Since the data available is minimal, there are only two statuses as of now but there can be more statuses in the complete data set.  \n",
    "* There are **duplicate entries** in the **shipping data** for customers with single orders. \n",
    "* Shipping data provided is **on an individual Order_ID level** but there is **no Shipping_ID in the Order table** to track order for which the shipping status is valid for. Hence for customers with multiple orders, it is not possible to map the shipping status with the appropriate order. This is a major flaw in the data flow especially when there is a need to report the data on an order level to see which orders are not fulfilled. \n",
    "* A single \"**Order_ID**\" must have only one shipping status in the shipping data. However, there are instances where there are multiple entries for a single order. For example, Customer_ID = 35. \n",
    "* The **quantity of the item ordered** is not available in the dataset. Ideally, this info should have been available in the orders data. This is another major gap in the data from the report requirements perspective. \n",
    "* Shipping data has a column named \"**Shipping_ID**\" which is not available in the orders table. This point is a further observation of the previous point. \n",
    "* By \"**product details**\", I presume it is the item description. If more details of the product is required from the reporting perspective, we need the data for products in detail. To be checked with the Sales Team! \n",
    "* Upon joining all the three data frames (orders, customer & shipping) to get the list of customers who have the complete information, we have in total just **99 customers**.\n",
    "\n"
   ]
  },
  {
   "cell_type": "markdown",
   "id": "848bc00f",
   "metadata": {},
   "source": [
    "### Requirements for the anticipated datasets\n",
    "\n",
    "* The data is **incomplete** for **orders and shipping**. There is no order data for 90 customers and there is no shipping data for 6 customers for whom we have the order data -> *<ins>We need orders and shipping data for all the customers</ins>*.\n",
    "\n",
    "\n",
    "* Consequently, **Order** data needs to have the \"**Shipping_ID**\" since one customer can have multiple orders and it cannot be assumed that all orders are fulfilled at the same time. Current shipping info at customer level is inadequate and not reliable to use -> *<ins> \"Shipping_ID\" needs to be added to Orders table </ins>*.\n",
    "\n",
    "* \"**Item Quantity**\" info is missing in the Orders data. This information is required from the reporting perspective to report \"**Total Quantity Sold**\" -> *<ins> \"Item Quantity\" field is required in the Order table.</ins>*\n",
    "\n",
    "* \"**Order_Date**\" is missing. This is one of the basic fields and there is a lot of insights that can be obtained from time period such as the customer's buying pattern, seasonal trend, and helps with month-on-month, quarter-on-quarter and other periodic analysis -> *<ins> \"Order_Date\" column is required in the Order table </ins>*.\n",
    "\n",
    "\n",
    "\n"
   ]
  },
  {
   "cell_type": "markdown",
   "id": "c67a1db3",
   "metadata": {},
   "source": [
    "**Note**: EDA also was done visually, both in Power BI with quick visuals and Excel in some cases. Although the data size was very limited in this case, in general, the visual approach would work as a complementary step to the programmatic way of doing the EDA (SQL, R or Python)"
   ]
  }
 ],
 "metadata": {
  "kernelspec": {
   "display_name": "Python 3 (ipykernel)",
   "language": "python",
   "name": "python3"
  },
  "language_info": {
   "codemirror_mode": {
    "name": "ipython",
    "version": 3
   },
   "file_extension": ".py",
   "mimetype": "text/x-python",
   "name": "python",
   "nbconvert_exporter": "python",
   "pygments_lexer": "ipython3",
   "version": "3.11.4"
  }
 },
 "nbformat": 4,
 "nbformat_minor": 5
}
